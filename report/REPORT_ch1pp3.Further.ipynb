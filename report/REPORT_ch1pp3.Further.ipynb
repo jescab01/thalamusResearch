{
 "cells": [
  {
   "cell_type": "markdown",
   "id": "3d794bd6",
   "metadata": {},
   "source": [
    "### 1.6 Cerebellum could be as important as thalamus\n",
    "\n",
    "In chapter 1, we discussed about the main results of thalamic simulations (see next figure). We tried to interpret why, before bifurcation, adding an active thalamus rose rPLV, and that adding a parcellated thalamus rPLV rose even higher. We proposed two possibilities:\n",
    "1. the more energy it is injected -from specific nodes- in that \"dumped\" brain the higher rFC; \n",
    "2. the thalamus has actually something special and its inputs are organizing the network in a biologically plausible manner. \n",
    "\n",
    "To check this, I computed the same simulations using the Cerebellum (single node and parcellated) as input region instead of thalamus.\n"
   ]
  },
  {
   "cell_type": "code",
   "execution_count": null,
   "id": "374dd1a8",
   "metadata": {},
   "outputs": [],
   "source": [
    "from functions import lineplot  # lineplot - plottypes: [orig_pse, avg, avg_simple, avg_simple_cer, subj_simple]\n",
    "\n",
    "# TH :: Common plot without passive condition.\n",
    "lineplot('PSEmpi_JRstd0.022TH-m07d15y2022-t21h.09m.19s', plottype=['avg_simple'], plotmode='inline', x_max=\"rel\")\n",
    "\n",
    "# CER :: Common plot without passive condition.\n",
    "lineplot('PSEmpi_JRstd0.022CER-m07d27y2022-t01h.25m.28s', plottype=['avg_simple_cer'], plotmode='inline')"
   ]
  },
  {
   "cell_type": "markdown",
   "id": "7ff63004",
   "metadata": {},
   "source": [
    "See Cerebellum curves! The range before bifurcation behaves quite similar: parcellated cerebellum creates a peak in rPLV before bifurcation and cerebellum single node also has high rPLV. Cerebellum single node behaves a bit different than in thalamic simulations: it diverges from woCer and peaks right after the bifurcation. Cerebellum is a big piece of brain and intensely connected to cortex. Adding up all those connections together it becomes a big node with a high impact over network dynamics. That high influence may explain the relatively lower values of wCer condition in front of the other two: woCer and pCer.\n",
    "\n",
    "**Conclusion:** there is nothing special in the thalamic structure. The point is the energy applied before bifurcation. The brain behaves better if it can oscillate before that critical point (when the nodes are on a fixed point, i.e. they are dumped oscillators). \n",
    "\n",
    "Put another way, what makes thalamus a key brain nuclei is not its structural connectivity, but its gating nature. The fact that it can energize a idling brain, and guide the dynamics. \n",
    "\n",
    "\n",
    "We could reject hypothesis 2: thalamus SC is special. But we still need to check whether hypothesis 1 make sense: the more noise we inject the higher rPLV? How does amount of noise relate to the behaviour **before bifurcation**?\n",
    "\n",
    "\n",
    "### 1.7 Focus on pre-bifurcation\n",
    "\n",
    "What's clear is that there is something interesting in the parameter space before bifurcation. What's happening there? Why are those simulations in which the brain is almost dead -but with a little thalamic energizer- the ones that best map the empirical FC? \n",
    "\n",
    "Some questions and issues:\n",
    "\n",
    "1. Pre-bif we dont get alpha. This is easy: manipulate \"p\" in thalamus so they oscillate naturally (this changes something basic from the model, simulations need to be repeated, at least main results).\n",
    "\n",
    "2. Whats the relationship between amount of noise and rPLV in pre-Bif? Could it be that larger noise put the nodes further before from bifurcation point? So, implementing high amplitude noise in the thalamus would be as simulating an awake state, and noisy input doesnt allow the cortex to synchronize well (it would be better with a clean oscillation). Thus reducing noise, would allow nodes to get up and reach bifurcation showing low oscillations as delta waves (sleeping). The idea is: more disorganized energy produces nodes to get further apart from bifurcation because they cannot syncrhonize well. Less disorganized energy produces nodes to get closer to the bif and oscillate in slow waves (delta, sleeping).\n",
    "\n",
    "3. Could it be that the static FC before bifurcation is due to the way we are implementing input to thalamus? Could it be that a dynamically defined input with other shape, variable targets and variable timeframes create dynamics in that range? Could it be that continuous noise just generates a static behaviour?\n",
    "\n",
    "\n",
    "#### 1.7.1 Getting alpha in pre-bifurcation\n",
    "\n",
    "We will test with one subject the effect of rising \"p\" value in thalamus, with the aim of getting a differential bifurcation  point (over 'g') for thalamic nodes (moved to lower values of g) and cortical ones. This way we will be able to get alpha oscillations in thalamus before the bifurcation; and thus transmit that to cortical nodes, avoiding issue 1.\n",
    "\n",
    "The following plot shows the simulations performed with a variable 'p' value in thalamus. The starting value was 0.09 as it is the value used in previous simulation for all nodes. Now, we want to keep it in the same value for cortical nodes. \n",
    "\n",
    "Let's go directly to the point. We wanted to get alpha in pre-bifurcation; thus autonomous alpha in thalamic nodes while no autonomous oscillation in cortical nodes. If we zoom into this zone around bifurcation (i.e. around g=6), we can see a yellow spot \"p\" [0.115, 0.125] where thalamic nodes have passed bifurcation and they are oscillating in a slow and high amplitude theta pattern. After that spot, we expect to get alpha activity and that progressively, thalamic nodes get saturated and reduced in signal amplitude. In the cortical nodes, this raising p also has an effect in reducing the bifurcation point, but just slightly from g==8 to g==6. In terms of rPLV, in the spot, correlations are still showing the peak for pTh vs Th vs woTh. However, once over theta spot the pattern changes: there are low correlation for a set of values far from bifurcation, and a \"band\" [g==4, g==4.5] where some cortical nodes have already passed bifurcation where rPLV peaks. Probably, having some nodes bifurcated generates higher dFC values. But we didn't want any cx node to pass bifurcation. \n",
    "\n",
    "**Therefore**, we are going to use a point well over the theta spot p_th=0.22; while p_cx=0.09."
   ]
  },
  {
   "cell_type": "code",
   "execution_count": null,
   "id": "6e8fe453",
   "metadata": {},
   "outputs": [],
   "source": [
    "from functions import pse\n",
    "pse('PSEmpi_adjustrange_P-m08d01y2022-t05h.25m.36s', plottype=[\"pse_p_bif\"], plotmode=\"inline\")"
   ]
  },
  {
   "cell_type": "markdown",
   "id": "be40bd7a",
   "metadata": {},
   "source": [
    "**BUT**: Why do correlations lower down when thalamus is oscillating in alpha? Look at the space around g==2, p==0.22. Perhaps, oscillating in alpha allows for an easier entrainment between nodes and FC gets more static. So, maybe adding more noise... try."
   ]
  },
  {
   "cell_type": "code",
   "execution_count": null,
   "id": "777cca65",
   "metadata": {
    "scrolled": false
   },
   "outputs": [],
   "source": [
    "## Different textures are due to several sets of simulations with different parameter space resolution.\n",
    "pse('PSEmpi_adjustingrange_Noise_v2FULL-m08d01y2022-t10h.37m.19s', x_type='log', plottype=[\"pse_n_bif\"], plotmode=\"inline\")"
   ]
  },
  {
   "cell_type": "markdown",
   "id": "a74fcc56",
   "metadata": {},
   "source": [
    "Thanks god, rising noise get us to were we were before with higher levels of rPLV for pTh (vs Th vs woTh) *before bifurcation*. \n",
    "\n",
    "Note that for our previous values of sigma=0.022 rPLV is low~0.2; From 0.17 it seems to rise up rPLV and also it is rising the amplitude of the signal (i.e. noise has higher amplitude than the signal; I think here we could compute a signal/noise ratio). \n",
    "\n",
    "An indirect way of checking the influence or relative magnitude of the noise is checking the spectra. As we rise noise, the spectra will tend to lower values (until getting the 1/f spectra). In the added FFTpeak column we can observe how from noise==0.33, FFT peak tend to lower. \n",
    "\n",
    "We can check an edge in the parameter space before bifurcation (i.e. before g==6). The edge separates an area of reduced rPLV and constant alpha (left) and an area of high rPLV and lower FFTpeak (right). We want to settle the model in the middle in an area where we actually keep high rPLV values and alpha oscillations. Thankfully, that area exists. This edge is due to the signal/noise ratio, over this edge gaussian noise std is higher than signals amplitude. \n",
    "\n",
    "**Therefore**, we will use sigma==[[0.15], 0.3], p_th=0.22 and p_cx=0.09. Now check here with simulate and g_explore. Then, go back to the beggining and simulate everything again.\n",
    "\n",
    "\n",
    "**One more thing**, why g==4 has higher correlation than g==2? So, when some of the cortical nodes pass over bifurcation, then rPLV rises a bit. Could it be that the emergence of new and strong dynamics from some nodes enhances variability and thus balance the functional network passing through a mixed set of states? If thats the case, then I could enhance that peak using the approach previously commented: using sinusoidal inputs variable to different sets of regions, different intensities and different time lengths. And this would also enhance dFC. \n",
    "\n",
    "\n"
   ]
  },
  {
   "cell_type": "code",
   "execution_count": null,
   "id": "d6f651cc",
   "metadata": {},
   "outputs": [],
   "source": [
    "import time\n",
    "import pickle\n",
    "\n",
    "## Simulate and check\n",
    "from functions import simulate, g_explore\n",
    "\n",
    "## Simulate :: NEMOS_035 - may take a while\n",
    "# output = []\n",
    "# sigma_sel = [0.1, 0.2, 0.3]\n",
    "# for s in sigma_sel:\n",
    "#    output.append(simulate(\"NEMOS_035\", \"jr\", g=2, p_th=0.22, sigma=s, th='pTh', t=20))\n",
    "    \n",
    "    \n",
    "# with open(\"data/g_explore-ch1CalibratingJR-\" + time.strftime(\"m%md%dy%Y-t%Hh.%Mm.%Ss\") + \".pkl\", \"wb\") as file: \n",
    "#    pickle.dump(output, file) \n",
    "#    file.close()\n",
    "\n",
    "# Load and plot already computed simulations.\n",
    "with open(\"data/g_explore-ch1CalibratingJR-m08d10y2022-t20h.59m.29s.pkl\", \"rb\") as file:\n",
    "    output=pickle.load(file)\n",
    "\n",
    "g_explore(output, sigma_sel, mode=\"inline\", param=\"sigma\")"
   ]
  },
  {
   "cell_type": "markdown",
   "id": "7cdbb7c1",
   "metadata": {},
   "source": [
    "#### 1.7.2 Noise in PreBif - input disorder theory\n",
    "\n",
    "2. Could it be that larger noise put the nodes further before from bifurcation point? So, implementing high amplitude noise in the thalamus would be as simulating an awake state, and noisy input doesnt allow the cortex to synchronize well (it would be better with a clean oscillation). \n",
    "\n",
    "Well, if this tendency occurs is very light. It is true that in the plot above (full log noise picture) there is a tendency in the bifs_cx, when noise in thalamus is higher than the signals, that you can see before bifurcation a slight stairway upper. So, for values of noise between 0.35 and 10, the more noise the later nodes come into the bifurcation. This is exactly what your theory would predict. \n",
    "\n",
    "\n",
    "    Now, clean up your mind and go to chapter 2. I'll start the process again with p_th==0.22, p_cx==0.09 and sigma_th==0.15."
   ]
  }
 ],
 "metadata": {
  "kernelspec": {
   "display_name": "Python 3 (ipykernel)",
   "language": "python",
   "name": "python3"
  },
  "language_info": {
   "codemirror_mode": {
    "name": "ipython",
    "version": 3
   },
   "file_extension": ".py",
   "mimetype": "text/x-python",
   "name": "python",
   "nbconvert_exporter": "python",
   "pygments_lexer": "ipython3",
   "version": "3.9.9"
  }
 },
 "nbformat": 4,
 "nbformat_minor": 5
}
