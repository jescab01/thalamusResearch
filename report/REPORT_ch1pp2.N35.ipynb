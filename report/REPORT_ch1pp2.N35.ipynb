{
 "cells": [
  {
   "cell_type": "markdown",
   "id": "319f83aa",
   "metadata": {},
   "source": [
    "### 1.3 General overview of N35 lineplots\n",
    "Simulating 'g' values of interest."
   ]
  },
  {
   "cell_type": "code",
   "execution_count": null,
   "id": "87b87cae",
   "metadata": {},
   "outputs": [],
   "source": [
    "# Lineplot :: NEMOS_035\n",
    "from functions import lineplot\n",
    "lineplot('PSEmpi_JRstd0.022TH-m07d15y2022-t21h.09m.19s', subject=\"NEMOS_035\", \n",
    "         plottype=['subj_simple'], g_sel=[4,9,15,37,60], plotmode='inline')"
   ]
  },
  {
   "cell_type": "markdown",
   "id": "cbded01b",
   "metadata": {},
   "source": [
    "### 1.4 Exploring 'g' values of interest on N35\n",
    "\n",
    "These were five 'g' values defined:\n",
    "- g==4: before bifurcation\n",
    "- g==9: on bifurcation\n",
    "- g==15: peak in KSD with slight reduction in rFC\n",
    "- g==37: post-bifurcation rPLV peak (for all 3 conditions; woTh and Th starts a plateau)\n",
    "- g==60: reduction in dPLV and reduction tendency in rPLV"
   ]
  },
  {
   "cell_type": "code",
   "execution_count": null,
   "id": "ce1ae096",
   "metadata": {
    "scrolled": false
   },
   "outputs": [],
   "source": [
    "import warnings\n",
    "warnings.filterwarnings('ignore')  # For a clean output: omitting \"overflow encountered in exp\" warning.\n",
    "from functions import simulate, g_explore\n",
    "\n",
    "# Simulate :: NEMOS_035 - may take a while\n",
    "output = []\n",
    "g_sel = [4, 9, 15, 37, 60]\n",
    "for g in g_sel:\n",
    "    output.append(simulate(\"NEMOS_035\", \"jr\", g=g, th='pTh', t=60))\n",
    "\n",
    "g_explore(output, g_sel, mode=\"inline\")"
   ]
  },
  {
   "cell_type": "markdown",
   "id": "36b557fa",
   "metadata": {},
   "source": [
    "#### g==4: before bifurcation\n",
    "  **Lineplot** - In this subject, this value clearly correspond to a point before bifurcation. Its also clear the better rPLV values for the parcellated thalamus in front of the single node thalamus. *In general*, it is a brain without energy, whose FC matrices although having extreme values matches well the structure of empirical FC. Why? That's a good question. The FC is quite static, if we simulate several times with different initial conditions, they would be the same? This is: the minima of low energy state is global or local?The **signals** look flat, with a little bit of aparent noise in some nodes. If we zoom into the signals we see that all of them has some level of oscillation (the influence of thalamic noise). The **spectra** is some sort of 1/f. This is interesting as we are injecting in the thalamus just gaussian white noise whose spectra would be something flat. In this case, it seems lie the node's structure is filtering the noise giving it the shape of 1/f. FC shows extreme values very low and very high connectivity compared to the empirical counterpart. dFC is null, in this simulation there is just 1 state.\n",
    "  \n",
    "#### g==9: on bifurcation\n",
    "  **Lineplot** - For this subject, g9 is a bit after the bifurcation. For this subject, g7 or g8 would be closer to bifurcation values - **compute additional simulations for g7** (see below). Here, there are oscillations and spectra look good with generalized alpha peaks. The FC dynamics look much better with values in the range of the empirical ones. Functional connectivity also looks better with less extreme values, although rPLV is lower (0.33) than for g4 (0.43).\n",
    "  \n",
    "#### g==15: peak in KSD with slight reduction in rFC\n",
    "  Here, statates seem less stable, more dynamical FC, the matrix looks similar to the empirical one; however, extreme values in FC came back and in fact the pattern of correlations is not as good as previous two: check the big square in the lower left corner, it is distorted, now look at it in previous gs.\n",
    "\n",
    "#### g==37: post-bifurcation rPLV peak (for all 3 conditions; woTh and Th starts a plateau); g==60\n",
    "  FC extreme values and no dynamical FC. Signals oscillate but too much systematicaly, they give rise to very thin and peaky spectra.\n",
    "\n",
    "#### g==60: reduction in dPLV and reduction tendency in rPLV\n",
    "  Same as in g==37 but further.\n",
    "\n",
    "In general, as Deco claims, the brain work in a metastable regime near a critical point of bifurcation for the system. The best 'g' value reviewed here was g==9, that although it is a bit after the bifurcation, it shows some dynamical FC and a very good pattern of FC."
   ]
  }
 ],
 "metadata": {
  "kernelspec": {
   "display_name": "Python 3 (ipykernel)",
   "language": "python",
   "name": "python3"
  },
  "language_info": {
   "codemirror_mode": {
    "name": "ipython",
    "version": 3
   },
   "file_extension": ".py",
   "mimetype": "text/x-python",
   "name": "python",
   "nbconvert_exporter": "python",
   "pygments_lexer": "ipython3",
   "version": "3.9.9"
  }
 },
 "nbformat": 4,
 "nbformat_minor": 5
}
