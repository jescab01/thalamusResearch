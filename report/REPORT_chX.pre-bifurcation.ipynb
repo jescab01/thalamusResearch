{
 "cells": [
  {
   "cell_type": "code",
   "execution_count": null,
   "id": "0e8c7b53",
   "metadata": {},
   "outputs": [],
   "source": []
  },
  {
   "cell_type": "markdown",
   "id": "c0ed2e08",
   "metadata": {},
   "source": [
    "Chapter 4 :: focus on bif.\n",
    "\n",
    "using 'p_array' with david and friston p==0.22 for thalamic nodes. \n",
    "\n",
    "Focusing the range of g_vals around bifurcation: 0-20:0.25.\n",
    "\n",
    "Computing the effect of noise std on bifurcation\n",
    "\n",
    "Computing PSE for all subjects; Active condition; around bifurcation; noise fixed."
   ]
  },
  {
   "cell_type": "code",
   "execution_count": null,
   "id": "75058d2b",
   "metadata": {},
   "outputs": [],
   "source": [
    "from functions import lineplot\n",
    "\n",
    "lineplot('data folder.sf....', plottype=['orig_pse'], plotmode='inline')"
   ]
  },
  {
   "cell_type": "markdown",
   "id": "da672598",
   "metadata": {},
   "source": [
    "sobre el ruido noseque... asi que decido usar este noise....\n",
    "\n",
    "y computo otra vez para todos los sujetos centrandome en la bifurcacion (para el paper debes plotear diagramas de bifurcacion.. que hablas mucho de ello)."
   ]
  },
  {
   "cell_type": "code",
   "execution_count": null,
   "id": "7c9e779d",
   "metadata": {},
   "outputs": [],
   "source": [
    "# Avg plot\n",
    "lineplot('define', plottype=['avg_simple'],  plotmode='inline')"
   ]
  },
  {
   "cell_type": "markdown",
   "id": "059c9fae",
   "metadata": {},
   "source": [
    "No esperamos nada raro aquí, sino más de lo mismo.. quiza el espacio de parametros sea un poco diferente.. pero no mas\n",
    "\n",
    "ahora ploteamos variabilidad entre sujetos; \n",
    "si veo que las conclusiones son las mimas, ni te molestes, borralo y pasa a lo siguiente\n",
    "\n",
    "finalmente en otra pagina si que vamos a volver a computar los g vals de interés. "
   ]
  },
  {
   "cell_type": "code",
   "execution_count": null,
   "id": "bfbfcb6d",
   "metadata": {},
   "outputs": [],
   "source": []
  },
  {
   "cell_type": "markdown",
   "id": "e159d7d2",
   "metadata": {},
   "source": [
    "Por ultimo en otra pagina, haces esto del estimulo.. prepare thalamic sinusoidal variable stimulus and simulate"
   ]
  },
  {
   "cell_type": "code",
   "execution_count": null,
   "id": "d2633e12",
   "metadata": {
    "scrolled": true
   },
   "outputs": [],
   "source": [
    "### Tests\n",
    "\n",
    "# g2 - sigma0.022\n",
    "# g4 - sigma0.022\n",
    "# g2 - sigma0.005; sigma2\n",
    "# g4 - \"\"\n",
    "\n",
    "import warnings\n",
    "warnings.filterwarnings('ignore')  # For a clean output: omitting \"overflow encountered in exp\" warning.\n",
    "from functions import simulate, g_explore\n",
    "\n",
    "# Simulate :: NEMOS_035 - may take a while\n",
    "output = []\n",
    "g_sel = [2]\n",
    "for g in g_sel:\n",
    "    output.append(simulate(\"NEMOS_035\", \"jr\", g=g, sigma= th='pTh', t=60))\n",
    "\n",
    "g_explore(output, g_sel, mode=\"inline\")"
   ]
  },
  {
   "cell_type": "code",
   "execution_count": null,
   "id": "06149158",
   "metadata": {},
   "outputs": [],
   "source": [
    "g_explore(output, g_sel, mode=\"inline\")"
   ]
  }
 ],
 "metadata": {
  "kernelspec": {
   "display_name": "Python 3 (ipykernel)",
   "language": "python",
   "name": "python3"
  },
  "language_info": {
   "codemirror_mode": {
    "name": "ipython",
    "version": 3
   },
   "file_extension": ".py",
   "mimetype": "text/x-python",
   "name": "python",
   "nbconvert_exporter": "python",
   "pygments_lexer": "ipython3",
   "version": "3.9.9"
  }
 },
 "nbformat": 4,
 "nbformat_minor": 5
}
